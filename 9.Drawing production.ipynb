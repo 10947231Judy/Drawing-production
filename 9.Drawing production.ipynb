{
 "cells": [
  {
   "cell_type": "code",
   "execution_count": 102,
   "id": "3af1f9b5-8b0f-4e0f-9ac6-b78f470dc819",
   "metadata": {},
   "outputs": [],
   "source": [
    "from PIL import Image\n",
    "pic=Image.open('C:/Users/User/Downloads/阿拉蕾.jpg')"
   ]
  },
  {
   "cell_type": "code",
   "execution_count": 103,
   "id": "84f05671-be3c-4483-adab-fc3f29243d65",
   "metadata": {},
   "outputs": [
    {
     "name": "stdout",
     "output_type": "stream",
     "text": [
      "圖片寬度: 512\n",
      "圖片高度: 512\n"
     ]
    }
   ],
   "source": [
    "print('圖片寬度:',pic.width)\n",
    "print('圖片高度:',pic.height)"
   ]
  },
  {
   "cell_type": "code",
   "execution_count": 104,
   "id": "dcc73f72-1db3-4317-8286-64d1389aca06",
   "metadata": {},
   "outputs": [
    {
     "name": "stdout",
     "output_type": "stream",
     "text": [
      "圖片檔案格式: JPEG\n",
      "圖片色彩模式: RGB\n",
      "圖片大小: (512, 512)\n"
     ]
    }
   ],
   "source": [
    "print('圖片檔案格式:',pic.format)\n",
    "print('圖片色彩模式:',pic.mode)\n",
    "print('圖片大小:',pic.size)"
   ]
  },
  {
   "cell_type": "code",
   "execution_count": 105,
   "id": "68ac7bed-3a5a-419b-82f8-a96d05386ddb",
   "metadata": {},
   "outputs": [],
   "source": [
    "pic.show()"
   ]
  },
  {
   "cell_type": "code",
   "execution_count": 87,
   "id": "3759c44a-8788-40d4-911a-c5b235980a35",
   "metadata": {},
   "outputs": [
    {
     "name": "stdout",
     "output_type": "stream",
     "text": [
      "原本的圖片色彩模式: RGB\n",
      "轉換黑白後的圖片色彩模式: 1\n"
     ]
    }
   ],
   "source": [
    "print('原本的圖片色彩模式:',pic.mode)\n",
    "new_pic=pic.convert('1')\n",
    "new_pic.show()\n",
    "print('轉換黑白後的圖片色彩模式:',new_pic.mode)"
   ]
  },
  {
   "cell_type": "code",
   "execution_count": 88,
   "id": "453b93c2-b171-4074-85dc-52096ec2867b",
   "metadata": {},
   "outputs": [],
   "source": [
    "new_pic=pic.rotate(30)\n",
    "new_pic.show()"
   ]
  },
  {
   "cell_type": "code",
   "execution_count": 89,
   "id": "098aa65f-a619-4b14-88b8-d6b47ae8de16",
   "metadata": {},
   "outputs": [],
   "source": [
    "new_pic2=pic.rotate(-30)\n",
    "new_pic2.show()"
   ]
  },
  {
   "cell_type": "code",
   "execution_count": 106,
   "id": "f11add6d-ff0c-4bdd-ae11-34396c753b65",
   "metadata": {},
   "outputs": [],
   "source": [
    "from PIL import Image\n",
    "from PIL import ImageFilter\n",
    "pic=Image.open(\"C:/Users/User/Downloads/阿拉蕾.jpg\")"
   ]
  },
  {
   "cell_type": "code",
   "execution_count": 107,
   "id": "1d3a7949-fff8-4f33-be40-307a9468ea7f",
   "metadata": {},
   "outputs": [],
   "source": [
    "new_pic=pic.filter(ImageFilter.CONTOUR)\n",
    "new_pic.save('C:/Users/User/Downloads/修改的阿拉蕾1.jpg')\n",
    "new_pic.show()"
   ]
  },
  {
   "cell_type": "code",
   "execution_count": 109,
   "id": "c1c419e6-4cc0-4f96-8b32-5b411f87bc94",
   "metadata": {},
   "outputs": [
    {
     "name": "stdout",
     "output_type": "stream",
     "text": [
      "原圖大小: (512, 512)\n",
      "縮放後圖形大小: (400, 400)\n"
     ]
    }
   ],
   "source": [
    "print('原圖大小:',pic.size)\n",
    "new_pic=pic.resize((400,400))\n",
    "print('縮放後圖形大小:',new_pic.size)\n",
    "new_pic.save('C:/Users/User/Downloads/修改的阿拉蕾2.jpg')\n",
    "new_pic.show()"
   ]
  },
  {
   "cell_type": "code",
   "execution_count": 110,
   "id": "25bda417-35cc-404f-818e-92cd3ffacab8",
   "metadata": {},
   "outputs": [
    {
     "name": "stdout",
     "output_type": "stream",
     "text": [
      "原圖大小: (512, 512)\n",
      "縮放後圖形大小: (250, 400)\n"
     ]
    }
   ],
   "source": [
    "print('原圖大小:',pic.size)\n",
    "new_pic=pic.resize((250,400))\n",
    "print('縮放後圖形大小:',new_pic.size)\n",
    "new_pic.save('C:/Users/User/Downloads/修改的阿拉蕾3.jpg')\n",
    "new_pic.show()"
   ]
  },
  {
   "cell_type": "code",
   "execution_count": 111,
   "id": "8f5937d4-be4f-46e2-8419-98ba794e3d04",
   "metadata": {},
   "outputs": [],
   "source": [
    "from PIL import Image,ImageFont,ImageDraw\n",
    "pic=Image.open('C:/Users/User/Downloads/阿拉蕾.jpg')"
   ]
  },
  {
   "cell_type": "code",
   "execution_count": 112,
   "id": "87618e55-66d5-439a-b221-ab4089e4bb5b",
   "metadata": {},
   "outputs": [],
   "source": [
    "t_font=ImageFont.truetype('c://Windows//Fonts//Inkfree.ttf', 30)\n",
    "draw=ImageDraw.Draw(pic)\n",
    "\n",
    "draw.text((20,30),'Dr. Slump',font=t_font,fill=(255,0,0,255))\n",
    "draw.text ((20,100),'Arale',font=t_font,fill=(0,255,0,255))\n",
    "pic.show()"
   ]
  },
  {
   "cell_type": "code",
   "execution_count": 99,
   "id": "31fbb42d-b717-4390-8e79-88360358345b",
   "metadata": {},
   "outputs": [],
   "source": [
    "from PIL import Image,ImageFont,ImageDraw\n",
    "pic=Image.open('C:/Users/User/Downloads/阿拉蕾.jpg')"
   ]
  },
  {
   "cell_type": "code",
   "execution_count": 100,
   "id": "29d6ff67-a944-4c9d-b7ac-ea64d307d59d",
   "metadata": {},
   "outputs": [],
   "source": [
    "t_font=ImageFont.truetype('c://Windows//Fonts//Inkfree.ttf', 100)\n",
    "draw=ImageDraw.Draw(pic)\n",
    "\n",
    "draw.text((20,350),'Dr. Slump',font=t_font,fill=(255,105,180,255))\n",
    "draw.text ((20,420),'Arale',font=t_font,fill=(0,255,0,255))\n",
    "pic.show()"
   ]
  },
  {
   "cell_type": "code",
   "execution_count": null,
   "id": "f7b9bef8-95af-4389-8af7-bfcff251154f",
   "metadata": {},
   "outputs": [],
   "source": []
  }
 ],
 "metadata": {
  "kernelspec": {
   "display_name": "Python 3 (ipykernel)",
   "language": "python",
   "name": "python3"
  },
  "language_info": {
   "codemirror_mode": {
    "name": "ipython",
    "version": 3
   },
   "file_extension": ".py",
   "mimetype": "text/x-python",
   "name": "python",
   "nbconvert_exporter": "python",
   "pygments_lexer": "ipython3",
   "version": "3.11.7"
  }
 },
 "nbformat": 4,
 "nbformat_minor": 5
}
